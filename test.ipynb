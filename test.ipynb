{
 "cells": [
  {
   "cell_type": "code",
   "execution_count": 1,
   "metadata": {},
   "outputs": [],
   "source": [
    "import torch \n",
    "\n",
    "a = torch.randn(3, 4)\n",
    "b = torch.randn(3, 4)"
   ]
  },
  {
   "cell_type": "code",
   "execution_count": 2,
   "metadata": {},
   "outputs": [
    {
     "name": "stdout",
     "output_type": "stream",
     "text": [
      "tensor([[-1.1253, -1.2890, -1.1756,  0.8711],\n",
      "        [-0.5541,  0.1979, -0.7902, -0.1005],\n",
      "        [ 1.0224,  0.9758,  0.2752,  0.9121]])\n",
      "tensor([[ 0.5745,  0.3886,  0.3506,  0.0483],\n",
      "        [-0.5201, -0.6267, -0.5452, -0.0398],\n",
      "        [ 0.0846,  1.1331,  0.0095, -0.1509]])\n"
     ]
    }
   ],
   "source": [
    "print(a)\n",
    "print(b)"
   ]
  },
  {
   "cell_type": "code",
   "execution_count": 8,
   "metadata": {},
   "outputs": [
    {
     "data": {
      "text/plain": [
       "torch.Size([3, 4])"
      ]
     },
     "execution_count": 8,
     "metadata": {},
     "output_type": "execute_result"
    }
   ],
   "source": [
    "torch.mean(torch.stack([a, b]), dim=0).shape"
   ]
  }
 ],
 "metadata": {
  "interpreter": {
   "hash": "9fdfb74ce0a4aba120a50d3ed529c3439ffc91d1788ee0aa6693a54bb070c095"
  },
  "kernelspec": {
   "display_name": "Python 3.9.7 64-bit ('base': conda)",
   "language": "python",
   "name": "python3"
  },
  "language_info": {
   "codemirror_mode": {
    "name": "ipython",
    "version": 3
   },
   "file_extension": ".py",
   "mimetype": "text/x-python",
   "name": "python",
   "nbconvert_exporter": "python",
   "pygments_lexer": "ipython3",
   "version": "3.9.7"
  },
  "orig_nbformat": 4
 },
 "nbformat": 4,
 "nbformat_minor": 2
}
